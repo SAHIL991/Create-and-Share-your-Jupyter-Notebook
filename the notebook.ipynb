My Jupyter Notebook on IBM Watson Studio
-------

modeling

Data Science leads us to the future. And I want my place in the future. That is why I am interested in DS.

The next cell will calculate how much money I will pay Coursera as tution fee for course "data Science":
import math                #importing math for math.ceil() function (rounding up).
MonthlyFee = 38            # monthly fee in USD
CourseLength = 11          # course length according to Coursera in month
MyPace = 3                 # the coefficient which show how much times faster you can pass the course
TotalFee = math.ceil(CourseLength/MyPace)*MonthlyFee # counting the fee
print('For Data Science course you will pay in total',TotalFee,'$.') # output the values.
For Data Science course you will pay in total 152 $.
Because:

There is the chance info is usefull
It is not a lot for 11 months
I think it is fair enough

To see how much will you pay, run this code:

import math                #importing math for math.ceil() function (rounding up).
MonthlyFee = 38            # monthly fee in USD
CourseLength = 11          # course length according to Coursera in month
MyPace = 3                 # the coefficient which show how much times faster you can pass the course
TotalFee = math.ceil(CourseLength/MyPace)*MonthlyFee # counting the fee
print('For Data Science course you will pay in total',TotalFee,'$.') # output the values.
So go on

Try it if you can

Here is the link to course: IBM Data Science Professional Certificate
